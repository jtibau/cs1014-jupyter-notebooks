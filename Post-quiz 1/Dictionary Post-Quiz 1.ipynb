{
 "cells": [
  {
   "cell_type": "code",
   "execution_count": 7,
   "metadata": {},
   "outputs": [],
   "source": [
    "%grade_logstart 410"
   ]
  },
  {
   "attachments": {
    "free_response_datamap-2.png": {
     "image/png": "[encoded data removed]"
    }
   },
   "cell_type": "markdown",
   "metadata": {},
   "source": [
    "## Dictionary Post-Quiz 1\n",
    "\n",
    "You are given a data set representing several artworks. The data map for this data set is shown below where \"death\" refers to the death years of the artists of different artworks. Write an algorithm to compute and print the total number of artworks whose authors have died after the year 1900.\n",
    "\n",
    "In this BlockPy problem there is limited feedback and no indication of whether you have completed the problem successfully. Work on the problem until you believe that you have written a correct algorithm.\n",
    "\n",
    "\n",
    "\n",
    "![free_response_datamap-2.png](attachment:free_response_datamap-2.png)"
   ]
  },
  {
   "cell_type": "code",
   "execution_count": null,
   "metadata": {},
   "outputs": [],
   "source": []
  },
  {
   "cell_type": "code",
   "execution_count": 8,
   "metadata": {},
   "outputs": [
    {
     "data": {
      "application/javascript": [
       "\n",
       "// Convert Notebook cells to a string of Python code\n",
       "var makePython = function(cell) {\n",
       "    if (cell.cell_type == \"code\") {\n",
       "        // Code is embedded unchanged, unless it is magic\n",
       "        var source = cell.get_text();\n",
       "        if (source.startsWith('%')) {\n",
       "            // Skip magic\n",
       "            return '';\n",
       "        } else {\n",
       "            return source;\n",
       "        }\n",
       "    } else if (cell.cell_type == \"markdown\" ||\n",
       "               cell.cell_type == \"raw\") {\n",
       "        // Markdown and text is wrapped in a string.\n",
       "        var escaped_text = cell.get_text().replace(/'''/g, \"\\\\'\\\\'\\\\'\");\n",
       "        return \"'''\"+escaped_text+\"'''\";\n",
       "    }\n",
       "}\n",
       "var isUsable = function(cell) {\n",
       "    return cell.cell_type == \"code\" ||\n",
       "           cell.cell_type == \"markdown\" ||\n",
       "           cell.cell_type == \"raw\";\n",
       "}\n",
       "var cells = Jupyter.notebook.get_cells();\n",
       "var source_code = cells.filter(isUsable).map(makePython).join(\"\\n\");\n",
       "source_code = JSON.stringify(source_code);\n",
       "console.log(source_code);\n",
       "// Start constructing the feedback code (which will be Python).\n",
       "var on_run_code = [];\n",
       "on_run_code.push(\"student_code=\"+source_code);\n",
       "\n",
       "// While we are accessing the server, recolor the last cell a little.\n",
       "var last = null;\n",
       "if (cells.length > 0) {\n",
       "    last = cells[cells.length-1];\n",
       "    $(last.element).animate({\"background-color\": \"#E0E6FF\"}, 1000);\n",
       "}\n",
       "\n",
       "on_run_code.push(\"from pedal.plugins.grade_magic import blockpy_grade\");\n",
       "on_run_code.push('import json')\n",
       "on_run_code.push('inputs = json.dumps(\"\")')\n",
       "on_run_code.push(\"print(blockpy_grade(410, student_code, inputs))\");\n",
       "\n",
       "on_run_code = on_run_code.join(\"\\n\");\n",
       "console.log(on_run_code);\n",
       "var kernel = IPython.notebook.kernel;\n",
       "if (kernel !== null) {\n",
       "    var t = kernel.execute(on_run_code, { 'iopub' : {'output' : function(x) {\n",
       "        if (x.msg_type == \"error\") {\n",
       "            // If this was an error, show the traceback properly.\n",
       "            if (last !== null) {\n",
       "                last.output_area.append_error(x.content);\n",
       "                console.error(x);\n",
       "            } else {\n",
       "                console.error(\"Could not append to final cell.\", x);\n",
       "            }\n",
       "        } else if (!x.content.data && x.content.text) {\n",
       "            // If it was valid data, we show it as HTML.\n",
       "            console.log(x);\n",
       "            element.html(x.content.text.replace(/\\n/g, \"<br>\"));\n",
       "        } else {\n",
       "            // I'm not sure what it is - better dump it on the console.\n",
       "            console.log(x);\n",
       "        }\n",
       "        // Decolor the last cell if it was there.\n",
       "        if (last !== null) {\n",
       "            last = cells[cells.length-1];\n",
       "            $(last.element).animate({\"background-color\": \"white\"}, 1000);\n",
       "        }\n",
       "    }}});\n",
       "}"
      ],
      "text/plain": [
       "<IPython.core.display.Javascript object>"
      ]
     },
     "metadata": {},
     "output_type": "display_data"
    }
   ],
   "source": [
    "%grade_blockpy 410\n",
    "%grade_logstop 410"
   ]
  }
 ],
 "metadata": {
  "kernelspec": {
   "display_name": "Python 3",
   "language": "python",
   "name": "python3"
  },
  "language_info": {
   "codemirror_mode": {
    "name": "ipython",
    "version": 3
   },
   "file_extension": ".py",
   "mimetype": "text/x-python",
   "name": "python",
   "nbconvert_exporter": "python",
   "pygments_lexer": "ipython3",
   "version": "3.6.5"
  },
  "student_mode": true
 },
 "nbformat": 4,
 "nbformat_minor": 2
}
