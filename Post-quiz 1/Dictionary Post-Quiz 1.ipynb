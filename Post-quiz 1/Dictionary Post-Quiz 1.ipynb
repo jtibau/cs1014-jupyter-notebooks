{
 "cells": [
  {
   "cell_type": "code",
   "execution_count": null,
   "metadata": {
    "deletable": false,
    "editable": false
   },
   "outputs": [],
   "source": [
    "%grade_logstart 410"
   ]
  },
  {
   "cell_type": "markdown",
   "metadata": {
    "deletable": false
   },
   "source": [
    "## Dictionary Post-Quiz 1\n",
    "\n",
    "You are given the list of dictionaries shown below representing the abstraction of several artists. Write an algorithm to compute and print the total number artists who have died after the year 1900.\n",
    "\n",
    "In this problem there is limited feedback and no indication of whether you have completed the problem successfully. Work on the problem until you believe that you have written a correct algorithm."
   ]
  },
  {
   "cell_type": "markdown",
   "metadata": {
    "deletable": false
   },
   "source": [
    "### List of Dictionaries"
   ]
  },
  {
   "cell_type": "code",
   "execution_count": null,
   "metadata": {
    "deletable": false
   },
   "outputs": [],
   "source": [
    "artist_list = [\n",
    "    { \"name\": \"Abbott, Lemuel\" , \"death\": 1803, \"birth\": 1760 },\n",
    "    { \"name\": \"Adshead, Mary\" , \"death\": 1995, \"birth\":  1904 },\n",
    "    { \"name\": \"Bonnard, Pierre\" , \"death\": 1947, \"birth\":  1867 },\n",
    "    { \"name\": \"Chagall, Marc\" , \"death\": 1985, \"birth\":  1887 },\n",
    "    { \"name\": \"Dean, Catherine\" , \"death\": 1983, \"birth\":  1905 },\n",
    "    { \"name\": \"Ernst, Max\" , \"death\": 1976, \"birth\":  1891 },\n",
    "    { \"name\": \"Labruzzi, Carlo\" , \"death\": 1817, \"birth\":  1748 },\n",
    "    { \"name\": \"Pollard, James\" , \"death\": 1867, \"birth\":  1792 },\n",
    "    { \"name\": \"Rigby, Elizabeth\" , \"death\": 1893, \"birth\":  1809 },\n",
    "    { \"name\": \"Waterford, Louisa Anne\" , \"death\": 1891, \"birth\":  1818 },\n",
    "]"
   ]
  },
  {
   "cell_type": "markdown",
   "metadata": {
    "deletable": false
   },
   "source": [
    "### Write your code below"
   ]
  },
  {
   "cell_type": "code",
   "execution_count": null,
   "metadata": {
    "deletable": false
   },
   "outputs": [],
   "source": []
  },
  {
   "cell_type": "code",
   "execution_count": null,
   "metadata": {
    "deletable": false,
    "editable": false
   },
   "outputs": [],
   "source": [
    "%grade_blockpy 410\n",
    "%grade_logstop 410"
   ]
  }
 ],
 "metadata": {
  "comet_tracking": true,
  "kernelspec": {
   "display_name": "Python 3",
   "language": "python",
   "name": "python3"
  },
  "language_info": {
   "codemirror_mode": {
    "name": "ipython",
    "version": 3
   },
   "file_extension": ".py",
   "mimetype": "text/x-python",
   "name": "python",
   "nbconvert_exporter": "python",
   "pygments_lexer": "ipython3",
   "version": "3.6.5"
  },
  "student_mode": true
 },
 "nbformat": 4,
 "nbformat_minor": 2
}
