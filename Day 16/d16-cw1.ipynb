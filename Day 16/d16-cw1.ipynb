{
 "cells": [
  {
   "cell_type": "code",
   "execution_count": null,
   "metadata": {},
   "outputs": [],
   "source": [
    "%grade_logstart 406"
   ]
  },
  {
   "cell_type": "markdown",
   "metadata": {},
   "source": [
    "## Day 16 Classwork - Problem 1\n",
    "\n",
    "Consider the abstraction of *weather* represented in the Python dictionary below. Write a program that answers the following question:\n",
    "- What is the total precipitation?\n"
   ]
  },
  {
   "cell_type": "markdown",
   "metadata": {},
   "source": [
    "### Initializations"
   ]
  },
  {
   "cell_type": "code",
   "execution_count": null,
   "metadata": {},
   "outputs": [],
   "source": [
    "\n",
    "weather_reports = [ {\"City\": \"Birmingham\",  \"Precipitation\":  0.0, \"Temperature\": 46} ,\n",
    "                    {\"City\": \"Fairbanks\" ,  \"Precipitation\": 1.37, \"Temperature\": 57} ,\n",
    "                    {\"City\": \"Miami\",       \"Precipitation\": 1.86, \"Temperature\": 80} ,\n",
    "                    {\"City\": \"Los Angeles\", \"Precipitation\":  0.5, \"Temperature\": 73} ,\n",
    "                    {\"City\": \"Denver\",      \"Precipitation\":  0.0, \"Temperature\": 49} ,\n",
    "                    {\"City\": \"Chicago\",     \"Precipitation\": 0.23, \"Temperature\": 40} \n",
    "                  ] \n",
    "\n",
    "# add other initializations here"
   ]
  },
  {
   "cell_type": "markdown",
   "metadata": {},
   "source": [
    "### Processing"
   ]
  },
  {
   "cell_type": "code",
   "execution_count": null,
   "metadata": {},
   "outputs": [],
   "source": [
    "# put here the code to calculate the total precipition\n"
   ]
  },
  {
   "cell_type": "markdown",
   "metadata": {},
   "source": [
    "### Output"
   ]
  },
  {
   "cell_type": "code",
   "execution_count": null,
   "metadata": {},
   "outputs": [],
   "source": [
    "# put here the code to print the result\n"
   ]
  },
  {
   "cell_type": "markdown",
   "metadata": {},
   "source": [
    "### Feedback"
   ]
  },
  {
   "cell_type": "code",
   "execution_count": null,
   "metadata": {},
   "outputs": [],
   "source": [
    "%grade_logstop 406\n",
    "%grade_blockpy 406\n",
    "# new problem - needs new feedback"
   ]
  }
 ],
 "metadata": {
  "comet_tracking": true,
  "kernelspec": {
   "display_name": "Python 3",
   "language": "python",
   "name": "python3"
  },
  "language_info": {
   "codemirror_mode": {
    "name": "ipython",
    "version": 3
   },
   "file_extension": ".py",
   "mimetype": "text/x-python",
   "name": "python",
   "nbconvert_exporter": "python",
   "pygments_lexer": "ipython3",
   "version": "3.6.5"
  },
  "student_mode": true
 },
 "nbformat": 4,
 "nbformat_minor": 2
}
