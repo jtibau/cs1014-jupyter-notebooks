{
 "cells": [
  {
   "cell_type": "markdown",
   "metadata": {},
   "source": [
    "## Day 16 Classwork - Problem #1\n",
    "\n",
    "Consider the abstraction used on today's worksheet, it represents all the activities that you will do over the weekend, write a program that answers the following question:\n",
    "- How much fun did you have this weekend?\n",
    "\n",
    "To answer this, you have to add up all the fun_factor values, using an iteration. Then print the calculated value.\n",
    "\n",
    "Note: For the purposes of this exercise, we have abstracted the concept of \"fun\" into a number. You may disagree with our abstraction but that is an entirely different matter."
   ]
  },
  {
   "cell_type": "code",
   "execution_count": null,
   "metadata": {},
   "outputs": [],
   "source": [
    "activity_list = [\n",
    "                 {'name':'travel home', 'duration':200, 'fun_factor':10},\n",
    "                 {'name':'homework', 'duration':120, 'fun_factor':1},\n",
    "                 {'name':'visit friends', 'duration':240, 'fun_factor':95},\n",
    "                 {'name':'dinner with grandma', 'duration':80, 'fun_factor':75},\n",
    "                 {'name':'sleep', 'duration':2000, 'fun_factor':90}\n",
    "                 ]"
   ]
  }
 ],
 "metadata": {
  "kernelspec": {
   "display_name": "Python 3",
   "language": "python",
   "name": "python3"
  },
  "language_info": {
   "codemirror_mode": {
    "name": "ipython",
    "version": 3
   },
   "file_extension": ".py",
   "mimetype": "text/x-python",
   "name": "python",
   "nbconvert_exporter": "python",
   "pygments_lexer": "ipython3",
   "version": "3.4.5"
  }
 },
 "nbformat": 4,
 "nbformat_minor": 2
}
