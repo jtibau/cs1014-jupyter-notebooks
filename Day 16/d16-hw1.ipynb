{
 "cells": [
  {
   "cell_type": "markdown",
   "metadata": {},
   "source": [
    "## Day 16 Homework - Problem #1\n",
    "\n",
    "The program in this exercise should answer this question:\n",
    "- What is the total running time of all the Iron Man movies?\n",
    "This is a question you might want to answer if you are trying to binge watch them tonight.\n",
    "\n",
    "In order to answer this question we provide to you the following table representation of all the Iron Man movies.\n",
    "\n",
    "A good response requires:\n",
    "- A full representation of the abstraction and\n",
    "  all the data provided.\n",
    "- The algorithm that calculates the total running time.\n",
    "- Printing the total running time.\n",
    "    \n",
    "| Title      | Release Date | Budget (Millions of Dollars)| Running Time (Minutes) |\n",
    "|------------|--------------|-----------------------------|------------------------|\n",
    "| Iron Man   | May 2, 2008  | \\$140                       | 126                    |\n",
    "| Iron Man 2 | May 7, 2010  | \\$200                       | 125                    |\n",
    "| Iron Man 3 | May 3, 2013  | \\$200                       | 130                    |"
   ]
  },
  {
   "cell_type": "code",
   "execution_count": null,
   "metadata": {},
   "outputs": [],
   "source": []
  }
 ],
 "metadata": {
  "kernelspec": {
   "display_name": "Python 3",
   "language": "python",
   "name": "python3"
  },
  "language_info": {
   "codemirror_mode": {
    "name": "ipython",
    "version": 3
   },
   "file_extension": ".py",
   "mimetype": "text/x-python",
   "name": "python",
   "nbconvert_exporter": "python",
   "pygments_lexer": "ipython3",
   "version": "3.4.5"
  }
 },
 "nbformat": 4,
 "nbformat_minor": 2
}
