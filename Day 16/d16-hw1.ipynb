{
 "cells": [
  {
   "cell_type": "code",
   "execution_count": null,
   "metadata": {},
   "outputs": [],
   "source": [
    "%grade_logstart 408"
   ]
  },
  {
   "cell_type": "markdown",
   "metadata": {},
   "source": [
    "## Day 16 Homework - Problem 1\n",
    "\n",
    "In this exercise you are provided with an abstraction that represents the instances of crime reported by various U.S. states in 2012. The abstraction shows the reporting state, the rate of all property crimes, and the rate of all violent crimes.\n",
    "        \n",
    "| State         | Property Crime | Violent Crime |\n",
    "|--------------|-----------------|---------------|\n",
    "| Virginia     | 2162.1          |  190.1        |\n",
    "| Texas        | 3361.8          |  408.6        |\n",
    "| California   | 2758.7          |  423.1        |\n",
    "| New York     | 1922.0          |  406.8        |\n",
    "| Iowa         | 2271.8          |  263.9        |\n",
    "| Colorado     | 2684.7          |  308.9        |\n",
    "\n",
    "For this abstraction, we want you to answer the following question:\n",
    "- What is the average property crime rate and the average violent crime rate?"
   ]
  },
  {
   "cell_type": "markdown",
   "metadata": {},
   "source": [
    "### Initializations"
   ]
  },
  {
   "cell_type": "code",
   "execution_count": null,
   "metadata": {},
   "outputs": [],
   "source": [
    "# Put here the dictionary definition and other variable initializations\n"
   ]
  },
  {
   "cell_type": "markdown",
   "metadata": {},
   "source": [
    "### Processing"
   ]
  },
  {
   "cell_type": "code",
   "execution_count": null,
   "metadata": {},
   "outputs": [],
   "source": [
    "# Put here the code to compute the two averages\n"
   ]
  },
  {
   "cell_type": "markdown",
   "metadata": {},
   "source": [
    "### Output"
   ]
  },
  {
   "cell_type": "code",
   "execution_count": null,
   "metadata": {},
   "outputs": [],
   "source": [
    "# Put here the code to output the results\n"
   ]
  },
  {
   "cell_type": "markdown",
   "metadata": {},
   "source": [
    "### Feedback"
   ]
  },
  {
   "cell_type": "code",
   "execution_count": null,
   "metadata": {},
   "outputs": [],
   "source": [
    "%grade_logstop 408\n",
    "%grade_blockpy 408\n",
    "# New problem - needs new feedback"
   ]
  }
 ],
 "metadata": {
  "comet_tracking": true,
  "kernelspec": {
   "display_name": "Python 3",
   "language": "python",
   "name": "python3"
  },
  "language_info": {
   "codemirror_mode": {
    "name": "ipython",
    "version": 3
   },
   "file_extension": ".py",
   "mimetype": "text/x-python",
   "name": "python",
   "nbconvert_exporter": "python",
   "pygments_lexer": "ipython3",
   "version": "3.6.5"
  },
  "student_mode": true
 },
 "nbformat": 4,
 "nbformat_minor": 2
}
