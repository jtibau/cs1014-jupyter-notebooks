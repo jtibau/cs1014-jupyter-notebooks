{
 "cells": [
  {
   "cell_type": "markdown",
   "metadata": {},
   "source": [
    "## Day 16 Classwork - Problem #2\n",
    "    \n",
    "In this exercise you are provided with an abstraction that represents the food you might have eaten in a particular meal.\n",
    "        \n",
    "| Name         | Calories | Price |\n",
    "|--------------|----------|-------|\n",
    "| Hamburger    | 540      | 3.79  |\n",
    "| French Fries | 230      | 2.09  |\n",
    "| Ice Cream    | 320      |  3.49 |\n",
    "| Soda         | 120      | 0.99  |\n",
    "\n",
    "Based on the dictionary that defines the abstraction, we want you to answer the following question:\n",
    "- What is the calorie per dollar of your meal?\n",
    "\n",
    "In order to calculate price per calorie you need to write some code that:\n",
    "- Creates a list of dictionaries that\n",
    "  represents the abstraction\n",
    "- Calculates the calories consumed.\n",
    "- Calculates the total cost.\n",
    "- Divides the total calories by the total cost.\n",
    "- Prints the calorie per dollar.\n",
    "\n",
    "As a response to the question, you need to calculate the calorie per dollar using an iteration then print the value you have calculated."
   ]
  },
  {
   "cell_type": "code",
   "execution_count": null,
   "metadata": {},
   "outputs": [],
   "source": []
  }
 ],
 "metadata": {
  "kernelspec": {
   "display_name": "Python 3",
   "language": "python",
   "name": "python3"
  },
  "language_info": {
   "codemirror_mode": {
    "name": "ipython",
    "version": 3
   },
   "file_extension": ".py",
   "mimetype": "text/x-python",
   "name": "python",
   "nbconvert_exporter": "python",
   "pygments_lexer": "ipython3",
   "version": "3.4.5"
  }
 },
 "nbformat": 4,
 "nbformat_minor": 2
}
