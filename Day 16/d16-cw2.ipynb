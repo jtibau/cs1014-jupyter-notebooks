{
 "cells": [
  {
   "cell_type": "code",
   "execution_count": null,
   "metadata": {
    "deletable": false,
    "editable": false
   },
   "outputs": [],
   "source": [
    "%grade_logstart XXX"
   ]
  },
  {
   "cell_type": "markdown",
   "metadata": {
    "deletable": false
   },
   "source": [
    "## Day 16 Classwork - Problem 2\n",
    "    \n",
    "In this exercise you are provided with an abstraction that represents the occurrence of earthquakes around the globe.\n",
    "\n",
    "| Location  | Magnitude | Depth |\n",
    "|-----------|-----------|-------|\n",
    "|California |    2.3    |  7.66 |\n",
    "|Japan      |    5.3    |  3.34 |\n",
    "|Burma      |    4.9    | 97.07 |\n",
    "|Alaska     |    4.6    | 35.0  |\n",
    "|Washington |    2.19   | 15.28 |\n",
    "|China      |    4.3    | 10.0  |\n",
    "        \n",
    "\n",
    "\n",
    "Based on the dictionary that defines the abstraction, we want you to answer the following question:\n",
    "- WWhat is the average earthquake magnitude?\n",
    "\n",
    "To complete this question, you need to define a list of dictionaries that represents the above abstraction, calculate the average magnitude, print the value you have calculated."
   ]
  },
  {
   "cell_type": "markdown",
   "metadata": {
    "deletable": false
   },
   "source": [
    "### Initializations"
   ]
  },
  {
   "cell_type": "code",
   "execution_count": null,
   "metadata": {
    "deletable": false
   },
   "outputs": [],
   "source": [
    "# Put here the definition of the list of dictionaries and any other variable initializations.\n"
   ]
  },
  {
   "cell_type": "markdown",
   "metadata": {
    "deletable": false
   },
   "source": [
    "### Processing"
   ]
  },
  {
   "cell_type": "code",
   "execution_count": null,
   "metadata": {
    "deletable": false
   },
   "outputs": [],
   "source": [
    "# Put here the code to compute the average magnitude\n"
   ]
  },
  {
   "cell_type": "markdown",
   "metadata": {
    "deletable": false
   },
   "source": [
    "### Output"
   ]
  },
  {
   "cell_type": "code",
   "execution_count": null,
   "metadata": {
    "deletable": false
   },
   "outputs": [],
   "source": [
    "# Put here the code to print the result.\n"
   ]
  },
  {
   "cell_type": "markdown",
   "metadata": {
    "deletable": false
   },
   "source": [
    "### Feedback"
   ]
  },
  {
   "cell_type": "code",
   "execution_count": null,
   "metadata": {
    "deletable": false,
    "editable": false
   },
   "outputs": [],
   "source": [
    "%grade_logstop XXX\n",
    "%grade_blockpy XXX\n",
    "# New Problem. Needs new feedback."
   ]
  }
 ],
 "metadata": {
  "comet_tracking": true,
  "kernelspec": {
   "display_name": "Python 3",
   "language": "python",
   "name": "python3"
  },
  "language_info": {
   "codemirror_mode": {
    "name": "ipython",
    "version": 3
   },
   "file_extension": ".py",
   "mimetype": "text/x-python",
   "name": "python",
   "nbconvert_exporter": "python",
   "pygments_lexer": "ipython3",
   "version": "3.6.5"
  },
  "student_mode": false
 },
 "nbformat": 4,
 "nbformat_minor": 2
}
