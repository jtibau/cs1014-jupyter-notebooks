{
 "cells": [
  {
   "cell_type": "code",
   "execution_count": null,
   "metadata": {},
   "outputs": [],
   "source": [
    "%grade_logstart 414"
   ]
  },
  {
   "cell_type": "markdown",
   "metadata": {},
   "source": [
    "### Day 20 Classwork - Problem 2\n",
    "\n",
    "Below is a program that outputs a visualization of the rates of all property crime in the state of Virginia over time. \n",
    "\n",
    "Modify this program so that:\n",
    "\n",
    "- the visualization shows the rates for either all property crime or all violent crime as given by the user, and\n",
    "- the title of the visualization names the type of crime given by the user.\n",
    "\n",
    "Note: Use the Explore Structure button on the <a href=\"https://think.cs.vt.edu/corgis/python/state_crime/state_crime.html\" >State Crime data set </a> to create the portion of the data map that you need for this problem.\n"
   ]
  },
  {
   "cell_type": "code",
   "execution_count": null,
   "metadata": {},
   "outputs": [],
   "source": [
    "import state_crime\n",
    "import matplotlib.pyplot as plt\n",
    "\n",
    "crime_list = state_crime.get_report()\n",
    "\n",
    "state_crime = []"
   ]
  },
  {
   "cell_type": "code",
   "execution_count": null,
   "metadata": {},
   "outputs": [],
   "source": [
    "for crime in crime_list:\n",
    "    if crime[\"State\"] == \"Virginia\":\n",
    "        state_crime.append(crime[\"Data\"][\"Rates\"][\"Property\"][\"All\"])"
   ]
  },
  {
   "cell_type": "code",
   "execution_count": null,
   "metadata": {},
   "outputs": [],
   "source": [
    "plt.plot(state_crime)\n",
    "plt.title(\"Trend of Property Crime Rates in Virginia\")\n",
    "plt.xlabel(\"Year\")\n",
    "plt.ylabel(\"Rate\")\n",
    "plt.show()"
   ]
  },
  {
   "cell_type": "code",
   "execution_count": null,
   "metadata": {},
   "outputs": [],
   "source": [
    "%grade_logstop 414\n",
    "%grade_blockpy 414,Property"
   ]
  }
 ],
 "metadata": {
  "comet_tracking": true,
  "kernelspec": {
   "display_name": "Python 3",
   "language": "python",
   "name": "python3"
  },
  "language_info": {
   "codemirror_mode": {
    "name": "ipython",
    "version": 3
   },
   "file_extension": ".py",
   "mimetype": "text/x-python",
   "name": "python",
   "nbconvert_exporter": "python",
   "pygments_lexer": "ipython3",
   "version": "3.6.5"
  },
  "student_mode": true
 },
 "nbformat": 4,
 "nbformat_minor": 2
}
