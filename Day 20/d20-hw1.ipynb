{
 "cells": [
  {
   "cell_type": "code",
   "execution_count": null,
   "metadata": {},
   "outputs": [],
   "source": [
    "%grade_logstart 416"
   ]
  },
  {
   "cell_type": "markdown",
   "metadata": {},
   "source": [
    "### Day 20 Homework - Problem 1\n",
    "\n",
    "Below is a program that outputs a visualization of the rates over time of all property crime in the states of Virginia and North Carolina. \n",
    "\n",
    "Modify this program so that:\n",
    "\n",
    "- the visualization is for two state whose names are given by the user, and\n",
    "- the title of and the labels in the visualization use the names the states input by the user.\n"
   ]
  },
  {
   "cell_type": "code",
   "execution_count": null,
   "metadata": {},
   "outputs": [],
   "source": [
    "import state_crime\n",
    "import matplotlib.pyplot as plt\n",
    "\n",
    "crime_list = state_crime.get_all_crimes()\n",
    "\n",
    "state1_crime = []\n",
    "state2_crime = []"
   ]
  },
  {
   "cell_type": "code",
   "execution_count": null,
   "metadata": {},
   "outputs": [],
   "source": [
    "for crime in crime_list:\n",
    "    if crime[\"State\"] == \"Virginia\":\n",
    "        state1_crime.append(crime[\"Data\"][\"Rates\"][\"Property\"][\"All\"])\n",
    "    elif crime[\"State\"] == \"North Carolina\":\n",
    "        state2_crime.append(crime[\"Data\"][\"Rates\"][\"Property\"][\"All\"])"
   ]
  },
  {
   "cell_type": "code",
   "execution_count": null,
   "metadata": {},
   "outputs": [],
   "source": [
    "plt.plot(state1_crime, label=\"Virginia\")\n",
    "plt.plot(state2_crime, label=\"North Carolina\")\n",
    "plt.title(\"Trend of Property Crime Rates in Virginia and North Carolina\")\n",
    "plt.xlabel(\"Year\")\n",
    "plt.ylabel(\"Rate\")\n",
    "plt.legend()\n",
    "plt.show()"
   ]
  },
  {
   "cell_type": "code",
   "execution_count": null,
   "metadata": {},
   "outputs": [],
   "source": [
    "%grade_logstop 416\n",
    "%grade_blockpy 416,Virginia,North Carolina"
   ]
  }
 ],
 "metadata": {
  "comet_tracking": true,
  "kernelspec": {
   "display_name": "Python 3",
   "language": "python",
   "name": "python3"
  },
  "language_info": {
   "codemirror_mode": {
    "name": "ipython",
    "version": 3
   },
   "file_extension": ".py",
   "mimetype": "text/x-python",
   "name": "python",
   "nbconvert_exporter": "python",
   "pygments_lexer": "ipython3",
   "version": "3.6.5"
  },
  "student_mode": true
 },
 "nbformat": 4,
 "nbformat_minor": 2
}
