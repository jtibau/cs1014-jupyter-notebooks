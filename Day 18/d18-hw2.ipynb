{
 "cells": [
  {
   "cell_type": "code",
   "execution_count": null,
   "metadata": {
    "deletable": false,
    "editable": false
   },
   "outputs": [],
   "source": [
    "%grade_logstart 258"
   ]
  },
  {
   "cell_type": "markdown",
   "metadata": {
    "deletable": false
   },
   "source": [
    "## Day 18 Homework - Problem 2\n",
    "\n",
    "Using the weather dataset, answer the following question:\n",
    "- Is there a trend in the lowest temperatures for the city of Phoenix over time?\n",
    "\n",
    "In order to answer this question you must create a line plot of the lowest temperatures  (\"Min Temp\") for the reported data. Be sure to title the line plot and label the axes. You can reuse some of the code from the previous exercise.\n",
    "\n",
    "Remember to consult your diagram of the weather dataset and the weather dataset documentation at: https://corgis-edu.github.io/corgis/python/weather/"
   ]
  },
  {
   "cell_type": "markdown",
   "metadata": {
    "deletable": false
   },
   "source": [
    "### Initializations"
   ]
  },
  {
   "cell_type": "code",
   "execution_count": null,
   "metadata": {
    "deletable": false
   },
   "outputs": [],
   "source": [
    "import weather\n",
    "import matplotlib.pyplot as plt\n",
    "\n",
    "weather_reports = weather.get_report()\n",
    "\n",
    "# Add other initializations here."
   ]
  },
  {
   "cell_type": "markdown",
   "metadata": {
    "deletable": false
   },
   "source": [
    "### Processing"
   ]
  },
  {
   "cell_type": "code",
   "execution_count": null,
   "metadata": {
    "deletable": false
   },
   "outputs": [],
   "source": [
    "# Put here the code to create the list of data to be visualized."
   ]
  },
  {
   "cell_type": "markdown",
   "metadata": {
    "deletable": false
   },
   "source": [
    "### Visualization"
   ]
  },
  {
   "cell_type": "code",
   "execution_count": null,
   "metadata": {
    "deletable": false
   },
   "outputs": [],
   "source": [
    "# Complete the code to generate and display the line plot\n",
    "\n",
    "plt.plot(___)              # replace the  ___ by the variable for the list of data\n",
    "plt.xlabel(\"___\")          # replace the ___ by a text description of the horizontal axis\n",
    "plt.ylabel(\"___\")          # replace the ___ by a text description of the vertical axis\n",
    "plt.title(\"___\")           # add a title for the visualization\n",
    "plt.show()"
   ]
  },
  {
   "cell_type": "markdown",
   "metadata": {
    "deletable": false
   },
   "source": [
    "### Feedback"
   ]
  },
  {
   "cell_type": "code",
   "execution_count": null,
   "metadata": {
    "deletable": false,
    "editable": false
   },
   "outputs": [],
   "source": [
    "%grade_logstop 258\n",
    "%grade_blockpy 258\n",
    "# Reused problem - reuse feedback from Spring"
   ]
  }
 ],
 "metadata": {
  "comet_tracking": true,
  "kernelspec": {
   "display_name": "Python 3",
   "language": "python",
   "name": "python3"
  },
  "language_info": {
   "codemirror_mode": {
    "name": "ipython",
    "version": 3
   },
   "file_extension": ".py",
   "mimetype": "text/x-python",
   "name": "python",
   "nbconvert_exporter": "python",
   "pygments_lexer": "ipython3",
   "version": "3.6.5"
  },
  "student_mode": true
 },
 "nbformat": 4,
 "nbformat_minor": 2
}
