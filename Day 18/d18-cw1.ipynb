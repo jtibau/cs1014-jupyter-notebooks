{
 "cells": [
  {
   "cell_type": "markdown",
   "metadata": {},
   "source": [
    "## Day 18 Classwork - Problem #1\n",
    "\n",
    "We want to answer the following question:\n",
    "- Considering only their \"Avg Temp\" (average temperature), how does the weather between \"San Diego\" and \"Blacksburg\" compare?\n",
    "\n",
    "To answer this question show two line plots, with the \"Avg Temp\""
   ]
  },
  {
   "cell_type": "code",
   "execution_count": null,
   "metadata": {},
   "outputs": [],
   "source": [
    "import matplotlib.pyplot as plt\n",
    "import weather\n",
    "\n",
    "weather_reports = weather.get_weather()"
   ]
  }
 ],
 "metadata": {
  "kernelspec": {
   "display_name": "Python 3",
   "language": "python",
   "name": "python3"
  },
  "language_info": {
   "codemirror_mode": {
    "name": "ipython",
    "version": 3
   },
   "file_extension": ".py",
   "mimetype": "text/x-python",
   "name": "python",
   "nbconvert_exporter": "python",
   "pygments_lexer": "ipython3",
   "version": "3.4.5"
  }
 },
 "nbformat": 4,
 "nbformat_minor": 2
}
