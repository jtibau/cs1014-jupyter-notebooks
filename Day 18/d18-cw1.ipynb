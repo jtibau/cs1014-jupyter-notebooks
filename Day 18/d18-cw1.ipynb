{
 "cells": [
  {
   "cell_type": "markdown",
   "metadata": {
    "deletable": false
   },
   "source": [
    "## Day 18 Classwork - Problem 1\n",
    "\n",
    "Using the \"Explore Structure\" button on the [Weather Dataset homepage](https://think.cs.vt.edu/corgis/python/weather/weather.html), complete the data map diagram distributed in class. This \"data map\" diagram will be useful in answering the questions that follow.\n",
    "\n",
    "To complete the assignment: \n",
    "- insert an image of your data map below,  \n",
    "- download this notebook as an html file\n",
    "- upload the html page into Canvas\n",
    "\n",
    "The steps to insert an image are in: <a href='https://canvas.vt.edu/courses/73187/pages/book-5-dot-7-jupyter-notebooks-part-2'>5.7) Jupyter Notebooks - Part 2</a>\n",
    "    \n"
   ]
  },
  {
   "cell_type": "markdown",
   "metadata": {
    "deletable": false
   },
   "source": [
    "### Add data map image"
   ]
  },
  {
   "cell_type": "markdown",
   "metadata": {
    "deletable": false
   },
   "source": [
    "Insert into this cell an image file of your data map. \n"
   ]
  },
  {
   "cell_type": "code",
   "execution_count": 1,
   "metadata": {
    "deletable": false
   },
   "outputs": [],
   "source": [
    "# No feedback needed"
   ]
  }
 ],
 "metadata": {
  "comet_tracking": true,
  "kernelspec": {
   "display_name": "Python 3",
   "language": "python",
   "name": "python3"
  },
  "language_info": {
   "codemirror_mode": {
    "name": "ipython",
    "version": 3
   },
   "file_extension": ".py",
   "mimetype": "text/x-python",
   "name": "python",
   "nbconvert_exporter": "python",
   "pygments_lexer": "ipython3",
   "version": "3.6.5"
  },
  "student_mode": true
 },
 "nbformat": 4,
 "nbformat_minor": 2
}
