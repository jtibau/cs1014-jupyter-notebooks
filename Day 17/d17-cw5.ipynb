{
 "cells": [
  {
   "cell_type": "code",
   "execution_count": null,
   "metadata": {},
   "outputs": [],
   "source": [
    "%grade_logstart XXX256"
   ]
  },
  {
   "cell_type": "markdown",
   "metadata": {},
   "source": [
    "## Day 17 Classwork - Problem #5\n",
    "\n",
    "Using the weather dataset, write a program that will allow the user to answer this question:\n",
    "- Is there a trend over time in the precipitation for a city input by the user?\n",
    "\n",
    "Your program must:\n",
    "   * use an input operation to prompt the user for the city's name and get the name of the city, and \n",
    "   * create a line plot of the precipitation for the named city.\n",
    "   \n",
    "Be sure to title the line plot and label the axes. You can reuse much of the code from the previous exercise.\n",
    "\n",
    "Remember to consult your diagram of the weather dataset and the weather dataset documentation at: http://think.cs.vt.edu/corgis/python/weather/weather.html\n",
    "\n",
    "Some possible city names are: Newark, Tupelo, Cleveland, Philadelphia, El Paso, Buffalo, Tucson ."
   ]
  },
  {
   "cell_type": "markdown",
   "metadata": {},
   "source": [
    "### Initializations"
   ]
  },
  {
   "cell_type": "code",
   "execution_count": null,
   "metadata": {},
   "outputs": [],
   "source": [
    "import weather\n",
    "import matplotlib.pyplot as plt\n",
    "\n",
    "weather_reports = weather.get_weather()\n",
    "\n",
    "# add other input and variable initializations here\n"
   ]
  },
  {
   "cell_type": "markdown",
   "metadata": {},
   "source": [
    "### Processing"
   ]
  },
  {
   "cell_type": "code",
   "execution_count": null,
   "metadata": {},
   "outputs": [],
   "source": [
    "# Put here the code to create the list of data to be plotted.\n"
   ]
  },
  {
   "cell_type": "markdown",
   "metadata": {},
   "source": [
    "### Visualization"
   ]
  },
  {
   "cell_type": "code",
   "execution_count": null,
   "metadata": {},
   "outputs": [],
   "source": [
    "# Put here the code to display a properly labelled line plot of the list of data.\n"
   ]
  },
  {
   "cell_type": "markdown",
   "metadata": {},
   "source": [
    "### Feedback"
   ]
  },
  {
   "cell_type": "code",
   "execution_count": null,
   "metadata": {},
   "outputs": [],
   "source": [
    "%grade_logstop XXX256\n",
    "%grade_blockpy XXX256\n",
    "# Reused problem - but added input. Can largely reuse feedback."
   ]
  }
 ],
 "metadata": {
  "comet_tracking": true,
  "kernelspec": {
   "display_name": "Python 3",
   "language": "python",
   "name": "python3"
  },
  "language_info": {
   "codemirror_mode": {
    "name": "ipython",
    "version": 3
   },
   "file_extension": ".py",
   "mimetype": "text/x-python",
   "name": "python",
   "nbconvert_exporter": "python",
   "pygments_lexer": "ipython3",
   "version": "3.6.5"
  },
  "student_mode": true
 },
 "nbformat": 4,
 "nbformat_minor": 2
}
