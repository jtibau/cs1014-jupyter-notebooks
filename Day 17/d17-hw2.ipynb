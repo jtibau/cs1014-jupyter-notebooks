{
 "cells": [
  {
   "cell_type": "code",
   "execution_count": null,
   "metadata": {},
   "outputs": [],
   "source": [
    "%grade_logstart 692"
   ]
  },
  {
   "cell_type": "markdown",
   "metadata": {},
   "source": [
    "## Day 17 Homework - Problem 2\n",
    "\n",
    "Shown below is a list named weather_reports. Each element of this list is a dictionary\n",
    "representing a hierarchy of properties.\n"
   ]
  },
  {
   "cell_type": "code",
   "execution_count": null,
   "metadata": {},
   "outputs": [],
   "source": [
    "weather_reports= [{'Date': 'July 4, 2019',\n",
    "                   'Location': {'State': 'Virginia',\n",
    "                                'City': 'Blacksburg'},\n",
    "                   'Conditions': {'Temperature': 85,\n",
    "                                  'Humidity': 45}           },\n",
    "                  \n",
    "                  {'Date': 'July 4, 2019',\n",
    "                   'Location': {'State': 'Iowa',\n",
    "                                'City': 'Ames'},\n",
    "                   'Conditions': {'Temperature': 92,\n",
    "                                  'Humidity': 75}           },\n",
    "                  \n",
    "                  {'Date': 'July 4, 2019',\n",
    "                   'Location': {'State': 'Indiana',\n",
    "                                'City': 'West Lafayette'},\n",
    "                   'Conditions': {'Temperature': 85,\n",
    "                                  'Humidity': 50}           },\n",
    "                   \n",
    "                  {'Date': 'July 4, 2019',\n",
    "                   'Location': {'State': 'California',\n",
    "                                'City': 'Santa Ana'},\n",
    "                   'Conditions': {'Temperature': 90,\n",
    "                                  'Humidity': 20}           }]"
   ]
  },
  {
   "cell_type": "markdown",
   "metadata": {},
   "source": [
    "Complete the code below to print the name of any city that has a humidity of at least 50 percent."
   ]
  },
  {
   "cell_type": "code",
   "execution_count": null,
   "metadata": {},
   "outputs": [],
   "source": [
    "for report in weather_reports:\n",
    "    if report[][]   >=    :\n",
    "        print(report[][])"
   ]
  },
  {
   "cell_type": "code",
   "execution_count": null,
   "metadata": {},
   "outputs": [],
   "source": [
    "%grade_logstop 692\n",
    "%grade_blockpy 692"
   ]
  }
 ],
 "metadata": {
  "comet_tracking": true,
  "kernelspec": {
   "display_name": "Python 3",
   "language": "python",
   "name": "python3"
  },
  "language_info": {
   "codemirror_mode": {
    "name": "ipython",
    "version": 3
   },
   "file_extension": ".py",
   "mimetype": "text/x-python",
   "name": "python",
   "nbconvert_exporter": "python",
   "pygments_lexer": "ipython3",
   "version": "3.6.8"
  },
  "student_mode": true
 },
 "nbformat": 4,
 "nbformat_minor": 2
}
