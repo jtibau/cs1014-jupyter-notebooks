{
 "cells": [
  {
   "cell_type": "markdown",
   "metadata": {},
   "source": [
    "## Day 17 Homework - Problem #2\n",
    "\n",
    "Using the weather dataset, answer the following question:\n",
    "- Is there a trend in the lowest temperatures for the city of Phoenix over time?\n",
    "\n",
    "In order to answer this question you must create a line plot of the lowest temperatures  (\"Min Temp\") for the reported data. Be sure to title the line plot and label the axes. You can reuse some of the code from the previous exercise.\n",
    "\n",
    "Remember to consult your diagram of the weather dataset and the weather dataset documentation at: http://think.cs.vt.edu/corgis/python/weather/weather.html"
   ]
  },
  {
   "cell_type": "code",
   "execution_count": null,
   "metadata": {},
   "outputs": [],
   "source": [
    "import weather\n",
    "import matplotlib.pyplot as plt\n",
    "\n",
    "weather_reports = weather.get_weather()"
   ]
  }
 ],
 "metadata": {
  "kernelspec": {
   "display_name": "Python 3",
   "language": "python",
   "name": "python3"
  },
  "language_info": {
   "codemirror_mode": {
    "name": "ipython",
    "version": 3
   },
   "file_extension": ".py",
   "mimetype": "text/x-python",
   "name": "python",
   "nbconvert_exporter": "python",
   "pygments_lexer": "ipython3",
   "version": "3.4.5"
  }
 },
 "nbformat": 4,
 "nbformat_minor": 2
}
