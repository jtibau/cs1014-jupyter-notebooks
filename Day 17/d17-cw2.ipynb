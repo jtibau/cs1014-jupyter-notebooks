{
 "cells": [
  {
   "cell_type": "code",
   "execution_count": null,
   "metadata": {},
   "outputs": [],
   "source": [
    "%reset -f -s\n",
    "%grade_logstart 687"
   ]
  },
  {
   "cell_type": "markdown",
   "metadata": {},
   "source": [
    "## Day 17 Classwork - Problem 2\n",
    "\n",
    "Shown below is an instance in an abstraction of weather reports. Dictionaries are used to organize the properties of this instance into a hierarchy.\n"
   ]
  },
  {
   "cell_type": "code",
   "execution_count": null,
   "metadata": {},
   "outputs": [],
   "source": [
    "weather_report = { 'Date': \"July 4, 2019',\n",
    "                   'Location': {'State': 'Virginia', 'City': 'Blacksburg'},\n",
    "                   'Conditions': {'Temperature': 85, 'Humidity': 45}\n",
    "                 }"
   ]
  },
  {
   "cell_type": "markdown",
   "metadata": {},
   "source": [
    "Complete the code below to print the date of the report and the humidity value.\t"
   ]
  },
  {
   "cell_type": "code",
   "execution_count": null,
   "metadata": {},
   "outputs": [],
   "source": [
    "when = weather_report[____]\n",
    "how_humid = weather_report[_____][____]\n",
    "print (when)\n",
    "print(how_humid)"
   ]
  },
  {
   "cell_type": "code",
   "execution_count": null,
   "metadata": {},
   "outputs": [],
   "source": [
    "%grade_logstop 687\n",
    "%grade_blockpy 687"
   ]
  }
 ],
 "metadata": {
  "comet_tracking": true,
  "kernelspec": {
   "display_name": "Python 3",
   "language": "python",
   "name": "python3"
  },
  "language_info": {
   "codemirror_mode": {
    "name": "ipython",
    "version": 3
   },
   "file_extension": ".py",
   "mimetype": "text/x-python",
   "name": "python",
   "nbconvert_exporter": "python",
   "pygments_lexer": "ipython3",
   "version": "3.6.8"
  },
  "student_mode": true
 },
 "nbformat": 4,
 "nbformat_minor": 2
}
