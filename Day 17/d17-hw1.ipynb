{
 "cells": [
  {
   "cell_type": "code",
   "execution_count": null,
   "metadata": {
    "deletable": false,
    "editable": false
   },
   "outputs": [],
   "source": [
    "%grade_logstart 691"
   ]
  },
  {
   "cell_type": "markdown",
   "metadata": {
    "deletable": false
   },
   "source": [
    "## Day 17 Homework - Problem 1\n",
    "\n",
    "Shown below is a list named weather_reports. Each element of this list is a dictionary\n",
    "representing a hierarchy of properties.\n"
   ]
  },
  {
   "cell_type": "code",
   "execution_count": null,
   "metadata": {
    "deletable": false
   },
   "outputs": [],
   "source": [
    "weather_reports= [{'Date': 'July 4, 2019',\n",
    "                   'Location': {'State': 'Virginia',\n",
    "                                'City': 'Blacksburg'},\n",
    "                   'Conditions': {'Temperature': 85,\n",
    "                                  'Humidity': 45}           },\n",
    "                  \n",
    "                  {'Date': 'July 4, 2019',\n",
    "                   'Location': {'State': 'Iowa',\n",
    "                                'City': 'Ames'},\n",
    "                   'Conditions': {'Temperature': 92,\n",
    "                                  'Humidity': 75}           },\n",
    "                  \n",
    "                  {'Date': 'July 4, 2019',\n",
    "                   'Location': {'State': 'Indiana',\n",
    "                                'City': 'West Lafayette'},\n",
    "                   'Conditions': {'Temperature': 85,\n",
    "                                  'Humidity': 50}           },\n",
    "                   \n",
    "                  {'Date': 'July 4, 2019',\n",
    "                   'Location': {'State': 'California',\n",
    "                                'City': 'Santa Ana'},\n",
    "                   'Conditions': {'Temperature': 90,\n",
    "                                  'Humidity': 20}           }]"
   ]
  },
  {
   "cell_type": "markdown",
   "metadata": {
    "deletable": false
   },
   "source": [
    "\n",
    "Complete the code below to compute and print the average humidity.\n"
   ]
  },
  {
   "cell_type": "code",
   "execution_count": null,
   "metadata": {
    "deletable": false
   },
   "outputs": [],
   "source": [
    "total_humidity = 0\n",
    "\n",
    "for report in weather_reports:\n",
    "    total_humidity = \n",
    "\n",
    "average_humidity = \n",
    "print(average_humidity)"
   ]
  },
  {
   "cell_type": "markdown",
   "metadata": {
    "deletable": false
   },
   "source": [
    "### Feedback"
   ]
  },
  {
   "cell_type": "code",
   "execution_count": null,
   "metadata": {
    "deletable": false,
    "editable": false
   },
   "outputs": [],
   "source": [
    "%grade_logstop 691\n",
    "%grade_blockpy 691"
   ]
  }
 ],
 "metadata": {
  "comet_tracking": true,
  "kernelspec": {
   "display_name": "Python 3",
   "language": "python",
   "name": "python3"
  },
  "language_info": {
   "codemirror_mode": {
    "name": "ipython",
    "version": 3
   },
   "file_extension": ".py",
   "mimetype": "text/x-python",
   "name": "python",
   "nbconvert_exporter": "python",
   "pygments_lexer": "ipython3",
   "version": "3.6.8"
  },
  "student_mode": true
 },
 "nbformat": 4,
 "nbformat_minor": 2
}
