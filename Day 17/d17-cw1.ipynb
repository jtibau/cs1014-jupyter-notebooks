{
 "cells": [
  {
   "cell_type": "markdown",
   "metadata": {},
   "source": [
    "## Day 17 Classwork - Problem #1\n",
    "\n",
    "Using the \"Explore Structure\" button on the [Weather Dataset homepage](https://think.cs.vt.edu/corgis/python/weather/weather.html), draw or write a diagram of the layers of abstraction for the weather dataset.\n",
    "\n",
    "Upload an image, as a file, with your diagram as your answer to this question. This diagram will be useful in answering the questions that follow."
   ]
  }
 ],
 "metadata": {
  "kernelspec": {
   "display_name": "Python 3",
   "language": "python",
   "name": "python3"
  },
  "language_info": {
   "codemirror_mode": {
    "name": "ipython",
    "version": 3
   },
   "file_extension": ".py",
   "mimetype": "text/x-python",
   "name": "python",
   "nbconvert_exporter": "python",
   "pygments_lexer": "ipython3",
   "version": "3.4.5"
  }
 },
 "nbformat": 4,
 "nbformat_minor": 2
}
