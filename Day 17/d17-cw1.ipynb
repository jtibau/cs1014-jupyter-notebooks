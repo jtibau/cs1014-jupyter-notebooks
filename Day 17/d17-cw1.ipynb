{
 "cells": [
  {
   "cell_type": "markdown",
   "metadata": {
    "deletable": false
   },
   "source": [
    "## Day 17 Classwork - Problem 1\n",
    "\n",
    "Using the \"Explore Structure\" button on the [Weather Dataset homepage](https://think.cs.vt.edu/corgis/python/weather/weather.html), draw or write a diagram of the layers of abstraction for the weather dataset.\n",
    "\n",
    "Upload an image, as a file, with your diagram as your answer to this question. This diagram will be useful in answering the questions that follow."
   ]
  },
  {
   "cell_type": "markdown",
   "metadata": {
    "deletable": false
   },
   "source": [
    "### Add data map image"
   ]
  },
  {
   "cell_type": "markdown",
   "metadata": {
    "deletable": false
   },
   "source": [
    "Edit this cell to show your data map. First, upload to your Day 17 folder a file with the image of the data map. Second,  replace \"filename\" with the name of your file in the below markdown.\n",
    "\n",
    "![Data Map](filename)\n"
   ]
  },
  {
   "cell_type": "code",
   "execution_count": 1,
   "metadata": {
    "deletable": false,
    "editable": false
   },
   "outputs": [],
   "source": [
    "# No feedback needed"
   ]
  }
 ],
 "metadata": {
  "comet_tracking": true,
  "kernelspec": {
   "display_name": "Python 3",
   "language": "python",
   "name": "python3"
  },
  "language_info": {
   "codemirror_mode": {
    "name": "ipython",
    "version": 3
   },
   "file_extension": ".py",
   "mimetype": "text/x-python",
   "name": "python",
   "nbconvert_exporter": "python",
   "pygments_lexer": "ipython3",
   "version": "3.4.5"
  },
  "student_mode": true
 },
 "nbformat": 4,
 "nbformat_minor": 2
}
