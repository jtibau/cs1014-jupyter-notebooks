{
 "cells": [
  {
   "cell_type": "code",
   "execution_count": null,
   "metadata": {},
   "outputs": [],
   "source": [
    "%grade_logstart 255"
   ]
  },
  {
   "cell_type": "markdown",
   "metadata": {},
   "source": [
    "## Day 17 Classwork - Problem 4\n",
    "\n",
    "Using the weather dataset answer the following question:\n",
    "- Is there a trend in the precipitation for the city of Chicago over time?\n",
    "\n",
    "In order to answer this question you must create a line plot of the precipitation for the reported data. Be sure to title the line plot and label the axes. You can reuse some of the code from the previous exercise.\n",
    "\n",
    "Remember to consult your diagram of the weather dataset and the weather dataset documentation at: http://think.cs.vt.edu/corgis/python/weather/weather.html"
   ]
  },
  {
   "cell_type": "markdown",
   "metadata": {},
   "source": [
    "### Initializations"
   ]
  },
  {
   "cell_type": "code",
   "execution_count": null,
   "metadata": {},
   "outputs": [],
   "source": [
    "import weather\n",
    "import matplotlib.pyplot as plt\n",
    "\n",
    "weather_reports = weather.get_weather()\n",
    "\n",
    "#Add other initializations here."
   ]
  },
  {
   "cell_type": "markdown",
   "metadata": {},
   "source": [
    "### Processing"
   ]
  },
  {
   "cell_type": "code",
   "execution_count": null,
   "metadata": {},
   "outputs": [],
   "source": [
    "# Put here the code to create the list of data to be plotted.\n"
   ]
  },
  {
   "cell_type": "markdown",
   "metadata": {},
   "source": [
    "### Visualization"
   ]
  },
  {
   "cell_type": "code",
   "execution_count": null,
   "metadata": {},
   "outputs": [],
   "source": [
    "# Complete the code to generate and display the line plot\n",
    "\n",
    "plt.plot(___)              # replace the  ___ by the variable for the list of data\n",
    "plt.xlabel(\"___\")          # replace the ___ by a text description of the horizontal axis\n",
    "plt.ylabel(\"___\")          # replace the ___ by a text description of the vertical axis\n",
    "plt.title(\"___\")           # add a title for the visualization\n",
    "plt.show()\n"
   ]
  },
  {
   "cell_type": "markdown",
   "metadata": {},
   "source": [
    "### Feedback"
   ]
  },
  {
   "cell_type": "code",
   "execution_count": null,
   "metadata": {},
   "outputs": [],
   "source": [
    "%grade_logstop 255\n",
    "%grade_blockpy 255\n",
    "# Reused problem - reuse feedback from Spring"
   ]
  }
 ],
 "metadata": {
  "comet_tracking": true,
  "kernelspec": {
   "display_name": "Python 3",
   "language": "python",
   "name": "python3"
  },
  "language_info": {
   "codemirror_mode": {
    "name": "ipython",
    "version": 3
   },
   "file_extension": ".py",
   "mimetype": "text/x-python",
   "name": "python",
   "nbconvert_exporter": "python",
   "pygments_lexer": "ipython3",
   "version": "3.6.5"
  },
  "student_mode": true
 },
 "nbformat": 4,
 "nbformat_minor": 2
}
