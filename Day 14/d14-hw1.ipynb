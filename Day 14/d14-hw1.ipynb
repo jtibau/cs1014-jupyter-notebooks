{
 "cells": [
  {
   "cell_type": "markdown",
   "metadata": {},
   "source": [
    "## Day 14 Homework - Problem #1\n",
    "\n",
    "Refer to the BlockPy figure on today's CANVAS Page. Convert the blocks in that figure into python code. Use this file for doing the translation.\n",
    "\n",
    "To finish this problem do the following steps:\n",
    "- Fill in the author field in line 2 with your name.\n",
    "- Run/Execute this program succesfully.\n",
    "- Upload this file and the picture file with the graph that was produced."
   ]
  },
  {
   "cell_type": "code",
   "execution_count": null,
   "metadata": {},
   "outputs": [],
   "source": []
  }
 ],
 "metadata": {
  "kernelspec": {
   "display_name": "Python 3",
   "language": "python",
   "name": "python3"
  },
  "language_info": {
   "codemirror_mode": {
    "name": "ipython",
    "version": 3
   },
   "file_extension": ".py",
   "mimetype": "text/x-python",
   "name": "python",
   "nbconvert_exporter": "python",
   "pygments_lexer": "ipython3",
   "version": "3.4.5"
  }
 },
 "nbformat": 4,
 "nbformat_minor": 2
}
