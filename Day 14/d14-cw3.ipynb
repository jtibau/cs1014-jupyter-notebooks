{
 "cells": [
  {
   "cell_type": "markdown",
   "metadata": {},
   "source": [
    "## Day 14 Classwork - Problem #3\n",
    "\n",
    "** Some rework needed **\n",
    "\n",
    "The algorithm below prints out a different message for each speed in a list of vehicle speeds. However, it is missing proper indentation.\n",
    "\n",
    "Fix the indentation and run the program.\n",
    "\n",
    "To finish this problem do the following steps:\n",
    "- Fill in the author field in line 2 with your name.\n",
    "- Run/Execute this program succesfully.\n",
    "- Type the output of the program between the \\*\\*\\*\\*\\* below"
   ]
  },
  {
   "cell_type": "markdown",
   "metadata": {},
   "source": [
    "*****\n",
    "REPLACE THIS TEXT WITH THE OUTPUT OF THIS PROGRAM\n",
    "*****"
   ]
  },
  {
   "cell_type": "code",
   "execution_count": null,
   "metadata": {},
   "outputs": [],
   "source": [
    "speeds = [10, 45, 55, 85]\n",
    "for speed in speeds:\n",
    "if speed > 50:\n",
    "print(\"Speeding!\")\n",
    "elif speed < 20:\n",
    "print(\"Go faster!\")\n",
    "else:\n",
    "print(\"What a good speed.\")"
   ]
  }
 ],
 "metadata": {
  "kernelspec": {
   "display_name": "Python 3",
   "language": "python",
   "name": "python3"
  },
  "language_info": {
   "codemirror_mode": {
    "name": "ipython",
    "version": 3
   },
   "file_extension": ".py",
   "mimetype": "text/x-python",
   "name": "python",
   "nbconvert_exporter": "python",
   "pygments_lexer": "ipython3",
   "version": "3.4.5"
  }
 },
 "nbformat": 4,
 "nbformat_minor": 2
}
