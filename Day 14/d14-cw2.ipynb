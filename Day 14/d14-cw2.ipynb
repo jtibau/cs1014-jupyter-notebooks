{
 "cells": [
  {
   "cell_type": "markdown",
   "metadata": {},
   "source": [
    "## Day 14 Classwork - Problem #2\n",
    "\n",
    "**Rework so that this program teaches them how to run cells and write markdown (maybe)**\n",
    "\n",
    "The following program tests whether you have installed\n",
    "the weather dataset properly. If you have, this program will\n",
    "run succesfully.\n",
    "\n",
    "If there are problems with your installation of the weather\n",
    "dataset, you will get an error on your console when\n",
    "you try to run it (by hiting the green triangle).\n",
    "\n",
    "To finish this problem do the following steps:\n",
    "- Fill in the author field in line 2 with your name.\n",
    "- Run/Execute this program succesfully.\n",
    "- Type the output of the program between the ***** below"
   ]
  },
  {
   "cell_type": "markdown",
   "metadata": {},
   "source": [
    "*****\n",
    "REPLACE THIS TEXT WITH THE OUTPUT OF THIS PROGRAM\n",
    "*****"
   ]
  },
  {
   "cell_type": "code",
   "execution_count": null,
   "metadata": {},
   "outputs": [],
   "source": [
    "import weather\n",
    "\n",
    "report_list = weather.get_weather()\n",
    "print(\"Good Job!\")"
   ]
  }
 ],
 "metadata": {
  "kernelspec": {
   "display_name": "Python 3",
   "language": "python",
   "name": "python3"
  },
  "language_info": {
   "codemirror_mode": {
    "name": "ipython",
    "version": 3
   },
   "file_extension": ".py",
   "mimetype": "text/x-python",
   "name": "python",
   "nbconvert_exporter": "python",
   "pygments_lexer": "ipython3",
   "version": "3.4.5"
  }
 },
 "nbformat": 4,
 "nbformat_minor": 2
}
