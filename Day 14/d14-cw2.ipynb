{
 "cells": [
  {
   "cell_type": "markdown",
   "metadata": {},
   "source": [
    "## Day 14 Classwork - Problem 2\n",
    "\n",
    "\n",
    "The algorithm below prints out a different description of each speed in a list of vehicle speeds. However, the program does not have proper Python indentation.\n",
    "\n",
    "Fix the indentation and use the **Run all** button to execute the program so that no error message are seen.\n",
    "\n",
    "For grading, remember that you have to use the **Download Notebook** button to copy the Notebook to your computer where you can upload it to the corresponding Assignment page. "
   ]
  },
  {
   "cell_type": "markdown",
   "metadata": {},
   "source": [
    "### Code to Correct"
   ]
  },
  {
   "cell_type": "code",
   "execution_count": null,
   "metadata": {},
   "outputs": [],
   "source": [
    "speeds = [10, 45, 55, 85]\n",
    "for speed in speeds:\n",
    "if speed > 50:\n",
    "print(\"Speeding!\")\n",
    "elif speed < 20:\n",
    "print(\"Go faster!\")\n",
    "else:\n",
    "print(\"What a good speed.\")"
   ]
  },
  {
   "cell_type": "markdown",
   "metadata": {},
   "source": [
    "### Feedback"
   ]
  },
  {
   "cell_type": "code",
   "execution_count": 9,
   "metadata": {},
   "outputs": [],
   "source": [
    "# This is the same problem as in Spring - reuse feedback from Spring"
   ]
  }
 ],
 "metadata": {
  "comet_tracking": true,
  "kernelspec": {
   "display_name": "Python 3",
   "language": "python",
   "name": "python3"
  },
  "language_info": {
   "codemirror_mode": {
    "name": "ipython",
    "version": 3
   },
   "file_extension": ".py",
   "mimetype": "text/x-python",
   "name": "python",
   "nbconvert_exporter": "python",
   "pygments_lexer": "ipython3",
   "version": "3.4.5"
  },
  "student_mode": true
 },
 "nbformat": 4,
 "nbformat_minor": 2
}
