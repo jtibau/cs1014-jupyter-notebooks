{
 "cells": [
  {
   "cell_type": "code",
   "execution_count": 1,
   "metadata": {},
   "outputs": [],
   "source": [
    "%grade_logstart 238"
   ]
  },
  {
   "cell_type": "markdown",
   "metadata": {},
   "source": [
    "## Day 14 Classwork - Problem 1\n",
    "\n",
    "Before you turn this problem in, make sure everything runs as expected. First, **run all cells** (by clicking the \"Run all\" button in the toolbar above).\n",
    "\n",
    "To finish this problem do the following steps:\n",
    "    -  Write your name in the cell below between the quote marks\n",
    "    -  Run/Execute this program succesfully by using the **Run all cells** button and notice the output that is produced.\n",
    "    -  Write the output produced by the program between the quote marks in ANSWER = \"\" \n",
    "    -  Press the **Download Notebook** button on the toolbar above to copy the Notebook to your computer.\n",
    "    -  Upload the copied Notebook on your computer to the corresponding Canvas assignment page for grading."
   ]
  },
  {
   "cell_type": "code",
   "execution_count": 2,
   "metadata": {},
   "outputs": [],
   "source": [
    "NAME = \"\"\n",
    "ANSWER = \"\""
   ]
  },
  {
   "cell_type": "markdown",
   "metadata": {},
   "source": [
    "### Initializations"
   ]
  },
  {
   "cell_type": "code",
   "execution_count": 3,
   "metadata": {},
   "outputs": [],
   "source": [
    "# Put here the original state of variables from initializations, inputs, and data from imported functions\n",
    "\n",
    "weight_measurements = [201.9, 200.4, 202.1, 198.6, 201.3, 199.7, 200.1]\n",
    "\n",
    "sum_weight = 0\n",
    "count_weight = 0"
   ]
  },
  {
   "cell_type": "markdown",
   "metadata": {},
   "source": [
    "### Processing"
   ]
  },
  {
   "cell_type": "code",
   "execution_count": 4,
   "metadata": {},
   "outputs": [],
   "source": [
    "# Put here the computation that produces the desired result(s).\n",
    "\n",
    "for measure in weight_measurements:\n",
    "    sum_weight = sum_weight + measure\n",
    "    count_weight = count_weight + 1\n",
    "\n",
    "avg_weight = sum_weight / count_weight"
   ]
  },
  {
   "cell_type": "markdown",
   "metadata": {},
   "source": [
    "### Output"
   ]
  },
  {
   "cell_type": "code",
   "execution_count": 5,
   "metadata": {},
   "outputs": [
    {
     "name": "stdout",
     "output_type": "stream",
     "text": [
      "200.58571428571426\n"
     ]
    }
   ],
   "source": [
    "# Put here the code to print or plot the result(s).\n",
    "\n",
    "print(avg_weight)"
   ]
  },
  {
   "cell_type": "markdown",
   "metadata": {},
   "source": [
    "### Feedback"
   ]
  },
  {
   "cell_type": "code",
   "execution_count": 6,
   "metadata": {},
   "outputs": [
    {
     "data": {
      "application/javascript": [
       "\n",
       "// Convert Notebook cells to a string of Python code\n",
       "var makePython = function(cell) {\n",
       "    if (cell.cell_type == \"code\") {\n",
       "        // Code is embedded unchanged, unless it is magic\n",
       "        var source = cell.get_text();\n",
       "        if (source.startsWith('%')) {\n",
       "            // Skip magic\n",
       "            return '';\n",
       "        } else {\n",
       "            return source;\n",
       "        }\n",
       "    } else if (cell.cell_type == \"markdown\" ||\n",
       "               cell.cell_type == \"raw\") {\n",
       "        // Markdown and text is wrapped in a string.\n",
       "        var escaped_text = cell.get_text().replace(/'''/g, \"\\\\'\\\\'\\\\'\");\n",
       "        return \"'''\"+escaped_text+\"'''\";\n",
       "    }\n",
       "}\n",
       "var isUsable = function(cell) {\n",
       "    return cell.cell_type == \"code\" ||\n",
       "           cell.cell_type == \"markdown\" ||\n",
       "           cell.cell_type == \"raw\";\n",
       "}\n",
       "var cells = Jupyter.notebook.get_cells();\n",
       "var source_code = cells.filter(isUsable).map(makePython).join(\"\\n\");\n",
       "source_code = JSON.stringify(source_code);\n",
       "console.log(source_code);\n",
       "// Start constructing the feedback code (which will be Python).\n",
       "var on_run_code = [];\n",
       "on_run_code.push(\"student_code=\"+source_code);\n",
       "\n",
       "// While we are accessing the server, recolor the last cell a little.\n",
       "var last = null;\n",
       "if (cells.length > 0) {\n",
       "    last = cells[cells.length-1];\n",
       "    $(last.element).animate({\"background-color\": \"#F6FAFF\"}, 1000);\n",
       "}\n",
       "\n",
       "on_run_code.push(\"from pedal.plugins.grade_magic import blockpy_grade\");\n",
       "on_run_code.push(\"print(blockpy_grade(238, student_code))\");\n",
       "\n",
       "on_run_code = on_run_code.join(\"\\n\");\n",
       "console.log(on_run_code);\n",
       "var kernel = IPython.notebook.kernel;\n",
       "if (kernel !== null) {\n",
       "    var t = kernel.execute(on_run_code, { 'iopub' : {'output' : function(x) {\n",
       "        if (x.msg_type == \"error\") {\n",
       "            // If this was an error, show the traceback properly.\n",
       "            if (last !== null) {\n",
       "                last.output_area.append_error(x.content);\n",
       "                console.error(x);\n",
       "            } else {\n",
       "                console.error(\"Could not append to final cell.\", x);\n",
       "            }\n",
       "        } else if (!x.content.data && x.content.text) {\n",
       "            // If it was valid data, we show it as HTML.\n",
       "            console.log(x);\n",
       "            element.html(x.content.text.replace(/\\n/g, \"<br>\"));\n",
       "        } else {\n",
       "            // I'm not sure what it is - better dump it on the console.\n",
       "            console.log(x);\n",
       "        }\n",
       "        // Decolor the last cell if it was there.\n",
       "        if (last !== null) {\n",
       "            last = cells[cells.length-1];\n",
       "            $(last.element).animate({\"background-color\": \"white\"}, 1000);\n",
       "        }\n",
       "    }}});\n",
       "}"
      ],
      "text/plain": [
       "<IPython.core.display.Javascript object>"
      ]
     },
     "metadata": {},
     "output_type": "display_data"
    }
   ],
   "source": [
    "%grade_blockpy 238\n",
    "%grade_logstop 238\n",
    "# This is the same problem as in Spring. Just need to check that ANSWER has the right value and that NAME is not empty."
   ]
  }
 ],
 "metadata": {
  "comet_tracking": true,
  "kernelspec": {
   "display_name": "Python 3",
   "language": "python",
   "name": "python3"
  },
  "language_info": {
   "codemirror_mode": {
    "name": "ipython",
    "version": 3
   },
   "file_extension": ".py",
   "mimetype": "text/x-python",
   "name": "python",
   "nbconvert_exporter": "python",
   "pygments_lexer": "ipython3",
   "version": "3.6.5"
  },
  "student_mode": true
 },
 "nbformat": 4,
 "nbformat_minor": 2
}
