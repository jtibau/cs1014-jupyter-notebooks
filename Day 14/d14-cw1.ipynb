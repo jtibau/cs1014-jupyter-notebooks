{
 "cells": [
  {
   "cell_type": "markdown",
   "metadata": {},
   "source": [
    "## Day 14 Classwork - Problem 1\n",
    "\n",
    "Before you turn this problem in, make sure everything runs as expected. First, **run all cells** (by clicking the \"Run all\" button in the toolbar above).\n",
    "\n",
    "To finish this problem do the following steps:\n",
    "    -  Write your name as well as your collaborators' names in the cell below\n",
    "    -  Fill in the places that says **YOUR CODE HERE** or **YOUR ANSWER HERE**\n",
    "    -  Run/Execute this program succesfully.\n",
    "    -  After you have verified that everything runs as expected, press the **Donwload IPYNB file** button on the toolbar above\n",
    "    -  Upload the downloaded IPYNB file to the corresponding Canvas assignment page"
   ]
  },
  {
   "cell_type": "code",
   "execution_count": 14,
   "metadata": {},
   "outputs": [],
   "source": [
    "NAME = \"\"\n",
    "COLLABORATORS = \"\""
   ]
  },
  {
   "cell_type": "markdown",
   "metadata": {},
   "source": [
    "### Programming pattern: Initializing variables\n",
    "\n",
    "Variables are essentially symbols that stand in place for values that you intend to use in your program.\n",
    "\n",
    "Notice few things in the program snippet below:\n",
    "    -  We have created a list using the square brackets (\\[ and \\])\n",
    "    -  Items that are part of the list are separated by commas inside the square brackets\n",
    "    -  We create two additional variables (sum_weight and count_weight) to store values in the program\n",
    "    -  Both of them are created with a starting value of 0. This is an example of initialization."
   ]
  },
  {
   "cell_type": "code",
   "execution_count": 15,
   "metadata": {},
   "outputs": [],
   "source": [
    "weight_measurements = [201.9, 200.4, 202.1, 198.6, 201.3, 199.7, 200.1]\n",
    "\n",
    "sum_weight = 0\n",
    "count_weight = 0"
   ]
  },
  {
   "cell_type": "markdown",
   "metadata": {},
   "source": [
    "### Programming pattern: Loops\n",
    "\n",
    "Loops allow you to run a chunk of code (usually called block of code) multiple times. \n",
    "\n",
    "We want to read each item within the weight_measurements list (created above) \\and calculate the sum of those weights and count the number of items in the list. To do so, we can use a loop.\n",
    "\n",
    "Python has different ways of writing loops. The snippet below shows a \"for loop\". Notice few things here:\n",
    "    -  The loop begins with a \"for\" keyword. \"for loop\" requires this\n",
    "    -  There is a new variable used after \"for\" called \"measure\" which will have the value of each item of the list\n",
    "    -  There is a keyword \"in\" after the variable. This is necessary to signify the source of the data (in this case a list)\n",
    "    -  After \"in\", there is the list name (weight_measurements)\n",
    "    -  The statement ends with a semicolon. Everything that is indented below the line is a chunk of code that is looped multiple times\n",
    "    -  All this means is that the computer **sequentially** picks value from the list weight_measurements and assigns that value to the measure variable\n",
    "    \n",
    "    -  Within the loop, each value in the list is added to the sum_weight variable one by one\n",
    "    -  The count_weight variable is increased by 1 each time the loop runs "
   ]
  },
  {
   "cell_type": "code",
   "execution_count": 16,
   "metadata": {},
   "outputs": [],
   "source": [
    "for measure in weight_measurements:\n",
    "    sum_weight = sum_weight + measure\n",
    "    count_weight = count_weight + 1\n",
    "\n",
    "avg_weight = sum_weight / count_weight"
   ]
  },
  {
   "cell_type": "markdown",
   "metadata": {},
   "source": [
    "### Programming pattern: Outputing variables\n",
    "\n",
    "We have calculated the average weight from the list in the cell above.\n",
    "\n",
    "Now, we want to print the average weight so that we can see it on the screen. To do so, we use a print statement. The syntax to write a print statement is ***print(VARIABLE_NAME)***\n",
    "\n",
    "#### Required task: Replace \"YOUR ANSWER HERE\" in the program below to print the variable that holds the average weight. "
   ]
  },
  {
   "cell_type": "code",
   "execution_count": 17,
   "metadata": {},
   "outputs": [
    {
     "name": "stdout",
     "output_type": "stream",
     "text": [
      "YOUR ANSWER HERE\n"
     ]
    }
   ],
   "source": [
    "print(\"YOUR ANSWER HERE\")"
   ]
  },
  {
   "cell_type": "code",
   "execution_count": null,
   "metadata": {},
   "outputs": [],
   "source": []
  }
 ],
 "metadata": {
  "kernelspec": {
   "display_name": "Python 3",
   "language": "python",
   "name": "python3"
  },
  "language_info": {
   "codemirror_mode": {
    "name": "ipython",
    "version": 3
   },
   "file_extension": ".py",
   "mimetype": "text/x-python",
   "name": "python",
   "nbconvert_exporter": "python",
   "pygments_lexer": "ipython3",
   "version": "3.6.4"
  }
 },
 "nbformat": 4,
 "nbformat_minor": 2
}
