{
 "cells": [
  {
   "cell_type": "markdown",
   "metadata": {},
   "source": [
    "## Day 14 Classwork - Problem 1\n",
    "\n",
    "Before you turn this problem in, make sure everything runs as expected. First, **run all cells** (by clicking the \"Run all\" button in the toolbar above).\n",
    "\n",
    "To finish this problem do the following steps:\n",
    "    -  Write your name in the cell below between the quote marks\n",
    "    -  Run/Execute this program succesfully by using the **Run all cells** button and notice the output that is produced.\n",
    "    -  Write the output produced by the program between the quote marks in ANSWER = \"\" \n",
    "    -  Press the **Donwload Notebook** button on the toolbar above to copy the Notebook to your computer.\n",
    "    -  Upload the copied Notebook on your computer to the corresponding Canvas assignment page for grading."
   ]
  },
  {
   "cell_type": "code",
   "execution_count": null,
   "metadata": {},
   "outputs": [],
   "source": [
    "NAME = \"\"\n",
    "ANSWER = \"\""
   ]
  },
  {
   "cell_type": "markdown",
   "metadata": {},
   "source": [
    "### Initializations"
   ]
  },
  {
   "cell_type": "code",
   "execution_count": null,
   "metadata": {},
   "outputs": [],
   "source": [
    "# Put here the original state of variables from initializations, inputs, and data from imported functions\n",
    "\n",
    "weight_measurements = [201.9, 200.4, 202.1, 198.6, 201.3, 199.7, 200.1]\n",
    "\n",
    "sum_weight = 0\n",
    "count_weight = 0"
   ]
  },
  {
   "cell_type": "markdown",
   "metadata": {},
   "source": [
    "### Processing"
   ]
  },
  {
   "cell_type": "code",
   "execution_count": null,
   "metadata": {},
   "outputs": [],
   "source": [
    "# Put here the computation that produces the desired result(s).\n",
    "\n",
    "for measure in weight_measurements:\n",
    "    sum_weight = sum_weight + measure\n",
    "    count_weight = count_weight + 1\n",
    "\n",
    "avg_weight = sum_weight / count_weight"
   ]
  },
  {
   "cell_type": "markdown",
   "metadata": {},
   "source": [
    "### Output"
   ]
  },
  {
   "cell_type": "code",
   "execution_count": null,
   "metadata": {},
   "outputs": [],
   "source": [
    "# Put here the code to print or plot the result(s).\n",
    "\n",
    "print(avg_weight)"
   ]
  },
  {
   "cell_type": "markdown",
   "metadata": {},
   "source": [
    "### Feedback"
   ]
  },
  {
   "cell_type": "code",
   "execution_count": null,
   "metadata": {},
   "outputs": [],
   "source": [
    "# This is the same problem as in Spring. Just need to check that ANSWER has the right value and that NAME is not empty."
   ]
  }
 ],
 "metadata": {
  "comet_tracking": true,
  "kernelspec": {
   "display_name": "Python 3",
   "language": "python",
   "name": "python3"
  },
  "language_info": {
   "codemirror_mode": {
    "name": "ipython",
    "version": 3
   },
   "file_extension": ".py",
   "mimetype": "text/x-python",
   "name": "python",
   "nbconvert_exporter": "python",
   "pygments_lexer": "ipython3",
   "version": "3.4.5"
  },
  "student_mode": true
 },
 "nbformat": 4,
 "nbformat_minor": 2
}
