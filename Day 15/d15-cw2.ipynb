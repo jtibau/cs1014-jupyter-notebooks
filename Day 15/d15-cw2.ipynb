{
 "cells": [
  {
   "cell_type": "code",
   "execution_count": 1,
   "metadata": {},
   "outputs": [],
   "source": [
    "%grade_logstart 405"
   ]
  },
  {
   "cell_type": "markdown",
   "metadata": {},
   "source": [
    "## Day 15 Classwork - Problem 2\n",
    "\n",
    "The below table shows one instance of an abstraction for weather. Define as the value of the variable *weather_instance* a Python dictionary that is a representation of this instance.\n",
    "\n",
    "\n",
    "|City <br> (string)    |State<br>(string)       |Precipitation<br>(float)   |Wind Speed<br>(int)  |Temperature<br>(float)  |   \n",
    "|-------------|------------|----------------|------------|-------------|\n",
    "| \"Blacksburg\"| \"Virginia\" |     0.5        |     15     |     76.5    |\n",
    "\n",
    "\n",
    "\n",
    "     \n"
   ]
  },
  {
   "cell_type": "markdown",
   "metadata": {},
   "source": [
    "### Dictionary Definition"
   ]
  },
  {
   "cell_type": "code",
   "execution_count": 2,
   "metadata": {},
   "outputs": [],
   "source": [
    "# Complete the definition of the dictionary weather_instance\n",
    "\n",
    "weather_instance = {}"
   ]
  },
  {
   "cell_type": "markdown",
   "metadata": {},
   "source": [
    "### Feedback"
   ]
  },
  {
   "cell_type": "code",
   "execution_count": 3,
   "metadata": {},
   "outputs": [
    {
     "data": {
      "application/javascript": [
       "\n",
       "// Convert Notebook cells to a string of Python code\n",
       "var makePython = function(cell) {\n",
       "    if (cell.cell_type == \"code\") {\n",
       "        // Code is embedded unchanged, unless it is magic\n",
       "        var source = cell.get_text();\n",
       "        if (source.startsWith('%')) {\n",
       "            // Skip magic\n",
       "            return '';\n",
       "        } else {\n",
       "            return source;\n",
       "        }\n",
       "    } else if (cell.cell_type == \"markdown\" ||\n",
       "               cell.cell_type == \"raw\") {\n",
       "        // Markdown and text is wrapped in a string.\n",
       "        var escaped_text = cell.get_text().replace(/'''/g, \"\\\\'\\\\'\\\\'\");\n",
       "        return \"'''\"+escaped_text+\"'''\";\n",
       "    }\n",
       "}\n",
       "var isUsable = function(cell) {\n",
       "    return cell.cell_type == \"code\" ||\n",
       "           cell.cell_type == \"markdown\" ||\n",
       "           cell.cell_type == \"raw\";\n",
       "}\n",
       "var cells = Jupyter.notebook.get_cells();\n",
       "var source_code = cells.filter(isUsable).map(makePython).join(\"\\n\");\n",
       "source_code = JSON.stringify(source_code);\n",
       "console.log(source_code);\n",
       "// Start constructing the feedback code (which will be Python).\n",
       "var on_run_code = [];\n",
       "on_run_code.push(\"student_code=\"+source_code);\n",
       "\n",
       "// While we are accessing the server, recolor the last cell a little.\n",
       "var last = null;\n",
       "if (cells.length > 0) {\n",
       "    last = cells[cells.length-1];\n",
       "    $(last.element).animate({\"background-color\": \"#F6FAFF\"}, 1000);\n",
       "}\n",
       "\n",
       "on_run_code.push(\"from pedal.plugins.grade_magic import blockpy_grade\");\n",
       "on_run_code.push(\"print(blockpy_grade(405, student_code))\");\n",
       "\n",
       "on_run_code = on_run_code.join(\"\\n\");\n",
       "console.log(on_run_code);\n",
       "var kernel = IPython.notebook.kernel;\n",
       "if (kernel !== null) {\n",
       "    var t = kernel.execute(on_run_code, { 'iopub' : {'output' : function(x) {\n",
       "        if (x.msg_type == \"error\") {\n",
       "            // If this was an error, show the traceback properly.\n",
       "            if (last !== null) {\n",
       "                last.output_area.append_error(x.content);\n",
       "                console.error(x);\n",
       "            } else {\n",
       "                console.error(\"Could not append to final cell.\", x);\n",
       "            }\n",
       "        } else if (!x.content.data && x.content.text) {\n",
       "            // If it was valid data, we show it as HTML.\n",
       "            console.log(x);\n",
       "            element.html(x.content.text.replace(/\\n/g, \"<br>\"));\n",
       "        } else {\n",
       "            // I'm not sure what it is - better dump it on the console.\n",
       "            console.log(x);\n",
       "        }\n",
       "        // Decolor the last cell if it was there.\n",
       "        if (last !== null) {\n",
       "            last = cells[cells.length-1];\n",
       "            $(last.element).animate({\"background-color\": \"white\"}, 1000);\n",
       "        }\n",
       "    }}});\n",
       "}"
      ],
      "text/plain": [
       "<IPython.core.display.Javascript object>"
      ]
     },
     "metadata": {},
     "output_type": "display_data"
    }
   ],
   "source": [
    "%grade_logstop 405\n",
    "%grade_blockpy 405\n",
    "# New problem - new feedback needed"
   ]
  }
 ],
 "metadata": {
  "comet_tracking": true,
  "kernelspec": {
   "display_name": "Python 3",
   "language": "python",
   "name": "python3"
  },
  "language_info": {
   "codemirror_mode": {
    "name": "ipython",
    "version": 3
   },
   "file_extension": ".py",
   "mimetype": "text/x-python",
   "name": "python",
   "nbconvert_exporter": "python",
   "pygments_lexer": "ipython3",
   "version": "3.6.5"
  },
  "student_mode": true
 },
 "nbformat": 4,
 "nbformat_minor": 2
}
