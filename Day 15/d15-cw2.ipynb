{
 "cells": [
  {
   "cell_type": "code",
   "execution_count": null,
   "metadata": {
    "deletable": false,
    "editable": false
   },
   "outputs": [],
   "source": [
    "%reset -f\n",
    "%grade_logstart 405"
   ]
  },
  {
   "cell_type": "markdown",
   "metadata": {
    "deletable": false
   },
   "source": [
    "## Day 15 Classwork - Problem 2\n",
    "\n",
    "The below table shows one instance of an abstraction for weather. Define as the value of the variable *weather_instance* a Python dictionary that is a representation of this instance.\n",
    "\n",
    "\n",
    "|City <br> (string)    |State<br>(string)       |Precipitation<br>(float)   |Wind Speed<br>(int)  |Temperature<br>(float)  |   \n",
    "|-------------|------------|----------------|------------|-------------|\n",
    "| \"Blacksburg\"| \"Virginia\" |     0.5        |     15     |     76.5    |\n",
    "\n",
    "\n",
    "\n",
    "     \n"
   ]
  },
  {
   "cell_type": "markdown",
   "metadata": {
    "deletable": false
   },
   "source": [
    "### Dictionary Definition"
   ]
  },
  {
   "cell_type": "code",
   "execution_count": null,
   "metadata": {
    "deletable": false
   },
   "outputs": [],
   "source": [
    "# Complete the definition of the dictionary weather_instance\n",
    "\n",
    "weather_instance = {}"
   ]
  },
  {
   "cell_type": "markdown",
   "metadata": {
    "deletable": false
   },
   "source": [
    "### Feedback"
   ]
  },
  {
   "cell_type": "code",
   "execution_count": null,
   "metadata": {
    "deletable": false,
    "editable": false
   },
   "outputs": [],
   "source": [
    "%grade_logstop 405\n",
    "%grade_blockpy 405\n",
    "# New problem - new feedback needed"
   ]
  }
 ],
 "metadata": {
  "comet_tracking": true,
  "kernelspec": {
   "display_name": "Python 3",
   "language": "python",
   "name": "python3"
  },
  "language_info": {
   "codemirror_mode": {
    "name": "ipython",
    "version": 3
   },
   "file_extension": ".py",
   "mimetype": "text/x-python",
   "name": "python",
   "nbconvert_exporter": "python",
   "pygments_lexer": "ipython3",
   "version": "3.6.5"
  },
  "student_mode": true
 },
 "nbformat": 4,
 "nbformat_minor": 2
}
