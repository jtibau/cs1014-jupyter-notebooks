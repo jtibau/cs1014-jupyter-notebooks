{
 "cells": [
  {
   "cell_type": "code",
   "execution_count": null,
   "metadata": {},
   "outputs": [],
   "source": [
    "%grade_logstart 404"
   ]
  },
  {
   "cell_type": "markdown",
   "metadata": {},
   "source": [
    "## Day 15 Classwork - Problem 1\n",
    "\n",
    "The below table shows one instance of an abstraction for state crime. The value of variable *crime_instance* shows an incorrect Python dictionary representation of this instance. Correct the Python dictionary so that it correctly represents the instance.\n",
    "\n",
    "State<br>(string) | City<br>(string) | Year<br>(int) | Property Crime<br>(int) | Violent Crime<br>(int) \n",
    "---|---|---|---|---\n",
    "\"Illinois\" | \"Chicago\" | 1995 | 16,280 | 5,806\n"
   ]
  },
  {
   "cell_type": "markdown",
   "metadata": {},
   "source": [
    "### Dictionary Definition"
   ]
  },
  {
   "cell_type": "code",
   "execution_count": null,
   "metadata": {},
   "outputs": [],
   "source": [
    "# Correct this Python dictionary\n",
    "\n",
    "crime_instance = {\"State\": \"Illinois\" , \"city\" : \"Chicago\"   year : \"1995\", \"Property_Crime\": 16,280, \"violentCrime\" : 5806}"
   ]
  },
  {
   "cell_type": "markdown",
   "metadata": {},
   "source": [
    "### Feedback"
   ]
  },
  {
   "cell_type": "code",
   "execution_count": null,
   "metadata": {},
   "outputs": [],
   "source": [
    "%grade_logstop 404\n",
    "%grade_blockpy 404\n",
    "# New problem - needs new feedback\n"
   ]
  }
 ],
 "metadata": {
  "comet_tracking": true,
  "kernelspec": {
   "display_name": "Python 3",
   "language": "python",
   "name": "python3"
  },
  "language_info": {
   "codemirror_mode": {
    "name": "ipython",
    "version": 3
   },
   "file_extension": ".py",
   "mimetype": "text/x-python",
   "name": "python",
   "nbconvert_exporter": "python",
   "pygments_lexer": "ipython3",
   "version": "3.6.5"
  },
  "student_mode": true
 },
 "nbformat": 4,
 "nbformat_minor": 2
}
