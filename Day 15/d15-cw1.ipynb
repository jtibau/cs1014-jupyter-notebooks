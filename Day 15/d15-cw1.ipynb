{
 "cells": [
  {
   "cell_type": "code",
   "execution_count": null,
   "metadata": {},
   "outputs": [],
   "source": [
    "%grade_logstart XXX"
   ]
  },
  {
   "cell_type": "markdown",
   "metadata": {},
   "source": [
    "## Day 15 Classwork - Problem 1\n",
    "\n",
    "The below table shows one instance of an abstraction for weather. Define as the value of the variable *weather_instance* a Python dictionary that is a representation of this instance.\n",
    "\n",
    "\n",
    "|City         |State       |Precipitation   |Wind Speed  |Temperature  |\n",
    "|-------------|------------|----------------|------------|-------------|\n",
    "| \"Blacksburg\"| \"Virginia\" |     0.5        |     15     |     76.5    |\n",
    "\n",
    "\n",
    "\n",
    "     \n"
   ]
  },
  {
   "cell_type": "markdown",
   "metadata": {},
   "source": [
    "### Dictionary Definition"
   ]
  },
  {
   "cell_type": "code",
   "execution_count": null,
   "metadata": {},
   "outputs": [],
   "source": [
    "# Complete the definition of the dictionary weather_instance\n",
    "\n",
    "weather_instance = {}"
   ]
  },
  {
   "cell_type": "markdown",
   "metadata": {},
   "source": [
    "### Feedback"
   ]
  },
  {
   "cell_type": "code",
   "execution_count": null,
   "metadata": {},
   "outputs": [],
   "source": [
    "%grade_logstop XXX\n",
    "%grade_blockpy XXX\n",
    "# New problem - needs new feedback\n"
   ]
  }
 ],
 "metadata": {
  "comet_tracking": true,
  "kernelspec": {
   "display_name": "Python 3",
   "language": "python",
   "name": "python3"
  },
  "language_info": {
   "codemirror_mode": {
    "name": "ipython",
    "version": 3
   },
   "file_extension": ".py",
   "mimetype": "text/x-python",
   "name": "python",
   "nbconvert_exporter": "python",
   "pygments_lexer": "ipython3",
   "version": "3.6.5"
  },
  "student_mode": true
 },
 "nbformat": 4,
 "nbformat_minor": 2
}
