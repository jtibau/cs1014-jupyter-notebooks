{
 "cells": [
  {
   "cell_type": "markdown",
   "metadata": {},
   "source": [
    "## Day 15 Classwork - Problem #1\n",
    "\n",
    "The program in this exercise should answer this question:\n",
    "- What is the price of a given book?\n",
    "The abstraction of the book is given by a dictionary.\n",
    "\n",
    "The dictionary has three keys:\n",
    "- *number\\_of\\_pages*\n",
    "- _price_\n",
    "- _discount_\n",
    "\n",
    "Do a dictionary access for the price of the book and print it."
   ]
  },
  {
   "cell_type": "code",
   "execution_count": null,
   "metadata": {},
   "outputs": [],
   "source": [
    "book = {\"number_of_pages\":285, \"price\":99.23, \"discount\":0.1}"
   ]
  }
 ],
 "metadata": {
  "kernelspec": {
   "display_name": "Python 3",
   "language": "python",
   "name": "python3"
  },
  "language_info": {
   "codemirror_mode": {
    "name": "ipython",
    "version": 3
   },
   "file_extension": ".py",
   "mimetype": "text/x-python",
   "name": "python",
   "nbconvert_exporter": "python",
   "pygments_lexer": "ipython3",
   "version": "3.4.5"
  }
 },
 "nbformat": 4,
 "nbformat_minor": 2
}
