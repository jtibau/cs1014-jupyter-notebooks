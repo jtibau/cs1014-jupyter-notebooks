{
 "cells": [
  {
   "cell_type": "code",
   "execution_count": null,
   "metadata": {
    "deletable": false,
    "editable": false
   },
   "outputs": [],
   "source": [
    "%grade_logstart 401"
   ]
  },
  {
   "cell_type": "markdown",
   "metadata": {
    "deletable": false
   },
   "source": [
    "## Day 15 Homework  - Problem 2\n",
    "    \n",
    "Calculating the fuel efficiency in miles per gallon (MPG) during a trip requires knowing:\n",
    "- The total distance in miles traveled.\n",
    "- The amount of fuel consumed.\n",
    "\n",
    "In this problem the trip data is stored in a dictionary with three keys:\n",
    "- _distance_\n",
    "- _time_\n",
    "- _fuel_\n",
    "\n",
    "For scientific purposes the information has been stored in meters, seconds, and liters. The conversions needed are:\n",
    "\n",
    "1 kilometer = 0.62 miles\n",
    "\n",
    "1 liter = 0.26 gallons\n",
    "\n",
    "Given the Python dictionary below write the Python code that calculates and prints the fuel efficiency in miles per gallon. "
   ]
  },
  {
   "cell_type": "markdown",
   "metadata": {
    "deletable": false
   },
   "source": [
    "### Dictionary Definition"
   ]
  },
  {
   "cell_type": "code",
   "execution_count": null,
   "metadata": {
    "deletable": false
   },
   "outputs": [],
   "source": [
    "trip_data = {\"distance\":123000.0, \"time\":14000.0, \"fuel\": 11.5}"
   ]
  },
  {
   "cell_type": "markdown",
   "metadata": {
    "deletable": false
   },
   "source": [
    "### Calculate and Print Fuel Efficiency"
   ]
  },
  {
   "cell_type": "code",
   "execution_count": null,
   "metadata": {
    "deletable": false
   },
   "outputs": [],
   "source": []
  },
  {
   "cell_type": "markdown",
   "metadata": {
    "deletable": false
   },
   "source": [
    "### Feedback"
   ]
  },
  {
   "cell_type": "code",
   "execution_count": null,
   "metadata": {
    "deletable": false,
    "editable": false
   },
   "outputs": [],
   "source": [
    "%grade_logstop 401\n",
    "%grade_blockpy 401\n",
    "# New problem - new feedback needed"
   ]
  }
 ],
 "metadata": {
  "comet_tracking": true,
  "kernelspec": {
   "display_name": "Python 3",
   "language": "python",
   "name": "python3"
  },
  "language_info": {
   "codemirror_mode": {
    "name": "ipython",
    "version": 3
   },
   "file_extension": ".py",
   "mimetype": "text/x-python",
   "name": "python",
   "nbconvert_exporter": "python",
   "pygments_lexer": "ipython3",
   "version": "3.6.5"
  },
  "student_mode": true
 },
 "nbformat": 4,
 "nbformat_minor": 2
}
