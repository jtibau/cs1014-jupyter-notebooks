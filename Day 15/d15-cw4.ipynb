{
 "cells": [
  {
   "cell_type": "code",
   "execution_count": null,
   "metadata": {},
   "outputs": [],
   "source": [
    "%grade_logstart 247"
   ]
  },
  {
   "cell_type": "markdown",
   "metadata": {},
   "source": [
    "## Day 15 Classwork - Problem 4\n",
    "\n",
    "The algorithm in this exercise tries to answer this question:\n",
    "- What is the price per page of a given book?\n",
    "The information necessary to make this calculation is inside a dictionary.\n",
    "\n",
    "The dictionary has three keys:\n",
    "- *number\\_of\\_pages*\n",
    "- _price_\n",
    "- _discount_\n",
    "\n",
    "Put the pieces of this algorithm in the right order and replace all the \\_\\_\\_ with either:\n",
    "- book[\"price\"]\n",
    "- book[\"number_of_pages\"]\n",
    "\n",
    "to calculate the answer."
   ]
  },
  {
   "cell_type": "markdown",
   "metadata": {},
   "source": [
    "### Code to rearrange"
   ]
  },
  {
   "cell_type": "code",
   "execution_count": null,
   "metadata": {},
   "outputs": [],
   "source": [
    "price_per_page = price_after_discount / ____\n",
    "\n",
    "book = {\"number_of_pages\":285, \"price\":99.23, \"discount\":0.1}\n",
    "\n",
    "print(price_per_page)\n",
    "\n",
    "discount = book[\"price\"] * book[\"discount\"]\n",
    "\n",
    "price_after_discount = ____ - discount"
   ]
  },
  {
   "cell_type": "markdown",
   "metadata": {},
   "source": [
    "### Feedback"
   ]
  },
  {
   "cell_type": "code",
   "execution_count": null,
   "metadata": {},
   "outputs": [],
   "source": [
    "%grade_logstop 247\n",
    "%grade_blockpy 247\n",
    "# reuse feedback code from Spring."
   ]
  }
 ],
 "metadata": {
  "comet_tracking": true,
  "kernelspec": {
   "display_name": "Python 3",
   "language": "python",
   "name": "python3"
  },
  "language_info": {
   "codemirror_mode": {
    "name": "ipython",
    "version": 3
   },
   "file_extension": ".py",
   "mimetype": "text/x-python",
   "name": "python",
   "nbconvert_exporter": "python",
   "pygments_lexer": "ipython3",
   "version": "3.6.5"
  },
  "student_mode": true
 },
 "nbformat": 4,
 "nbformat_minor": 2
}
