{
 "cells": [
  {
   "cell_type": "code",
   "execution_count": null,
   "metadata": {},
   "outputs": [],
   "source": [
    "%grade_logstart 248"
   ]
  },
  {
   "cell_type": "markdown",
   "metadata": {},
   "source": [
    "## Day 15 Homework - Problem 1\n",
    "    \n",
    "Calculating the average speed in miles per hour (MPH), during a trip requires knowing:\n",
    "- The total distance in miles traveled.\n",
    "- The amount of time it took to cover it.\n",
    "\n",
    "In this problem the trip data is stored in a dictionary with two keys:\n",
    "- _distance_\n",
    "- _time_\n",
    "\n",
    "For scientific purposes the information has been stored in meters and seconds.\n",
    "\n",
    "Reassemble the lines and fill in the blanks to calculate the average speed in MPH."
   ]
  },
  {
   "cell_type": "markdown",
   "metadata": {},
   "source": [
    "### Code to rearrange and complete"
   ]
  },
  {
   "cell_type": "code",
   "execution_count": null,
   "metadata": {},
   "outputs": [],
   "source": [
    "distance_in_kilometers = trip_data[\"____\"]/1000\n",
    "\n",
    "trip_data = {\"distance\":123000.0, \"time\":14000.0}\n",
    "\n",
    "print(average_speed_in_mph) \n",
    "\n",
    "average_speed_in_mph = ____ / time_in_hours\n",
    "\n",
    "time_in_hours = trip_data[\"____\"]/____\n",
    "\n",
    "____ = distance_in_kilometers / 1.6"
   ]
  },
  {
   "cell_type": "markdown",
   "metadata": {},
   "source": [
    "### Feedback"
   ]
  },
  {
   "cell_type": "code",
   "execution_count": null,
   "metadata": {},
   "outputs": [],
   "source": [
    "%grade_logstop 248\n",
    "%grade_blockpy 248\n",
    "# reuse feedback from Spring"
   ]
  }
 ],
 "metadata": {
  "comet_tracking": true,
  "kernelspec": {
   "display_name": "Python 3",
   "language": "python",
   "name": "python3"
  },
  "language_info": {
   "codemirror_mode": {
    "name": "ipython",
    "version": 3
   },
   "file_extension": ".py",
   "mimetype": "text/x-python",
   "name": "python",
   "nbconvert_exporter": "python",
   "pygments_lexer": "ipython3",
   "version": "3.6.5"
  },
  "student_mode": true
 },
 "nbformat": 4,
 "nbformat_minor": 2
}
